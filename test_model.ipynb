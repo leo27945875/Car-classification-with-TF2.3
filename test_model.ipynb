{
  "nbformat": 4,
  "nbformat_minor": 0,
  "metadata": {
    "colab": {
      "name": "test_model_0.ipynb",
      "provenance": [],
      "collapsed_sections": []
    },
    "kernelspec": {
      "name": "python3",
      "display_name": "Python 3"
    }
  },
  "cells": [
    {
      "cell_type": "code",
      "metadata": {
        "id": "KiGiqwdOEVHa"
      },
      "source": [
        "import numpy as np\n",
        "import pandas as pd\n",
        "import matplotlib.pyplot as plt\n",
        "import warnings\n",
        "import glob\n",
        "import os\n",
        "import time\n",
        "import json\n",
        "import cv2\n",
        "from IPython.display import display\n",
        "\n",
        "import tensorflow as tf\n",
        "from tensorflow.keras.preprocessing.image import ImageDataGenerator\n",
        "from tensorflow.keras.applications.densenet import preprocess_input\n",
        "from tensorflow.keras.models import load_model\n"
      ],
      "execution_count": 1,
      "outputs": []
    },
    {
      "cell_type": "code",
      "metadata": {
        "id": "urYxvKkGE9bR",
        "outputId": "b4662eb1-78c7-4e95-f9b4-33e1c11fb335",
        "colab": {
          "base_uri": "https://localhost:8080/"
        }
      },
      "source": [
        "root = r'D:\\桌面\\基於深度學習之視覺辨識專論'\n",
        "testPath = os.path.join(root, 'testing_data')\n",
        "trainPath = os.path.join(root, 'training_data')\n",
        "enocdePath = os.path.join(root, 'encodes.json')\n",
        "modelPath = os.path.join(root, 'model_1_29-0.86.h5')\n",
        "predictPath = os.path.join(root, f'predict_{round(time.time())}.csv')\n",
        "imgSize = (224, 224)\n",
        "preprocess = preprocess_input\n",
        "\n",
        "print(f'Testing data path: {testPath}')\n",
        "print(f'Training data path: {trainPath}')\n",
        "print(f'Label encode path: {enocdePath}')\n",
        "print(f'Loaded model path: {modelPath}')\n",
        "print(f'Prediction data path: {predictPath}')\n",
        "print(f'Size of input images: {imgSize}')\n",
        "print(f'Preprocessing function: {preprocess}')"
      ],
      "execution_count": 2,
      "outputs": [
        {
          "output_type": "stream",
          "text": [
            "Testing data path: D:\\桌面\\基於深度學習之視覺辨識專論/testing_data\n",
            "Training data path: D:\\桌面\\基於深度學習之視覺辨識專論/training_data\n",
            "Label encode path: D:\\桌面\\基於深度學習之視覺辨識專論/encodes.json\n",
            "Loaded model path: D:\\桌面\\基於深度學習之視覺辨識專論/model_1_29-0.86.h5\n",
            "Prediction data path: D:\\桌面\\基於深度學習之視覺辨識專論/predict_1605186338.csv\n",
            "Size of input images: (224, 224)\n",
            "Preprocessing function: <function preprocess_input at 0x7fed0373db70>\n"
          ],
          "name": "stdout"
        }
      ]
    },
    {
      "cell_type": "code",
      "metadata": {
        "id": "qbrOS4iTE-5Y",
        "outputId": "5dc7b9b4-0c7d-48f9-b33b-56cca4f781b2",
        "colab": {
          "base_uri": "https://localhost:8080/",
          "height": 525
        }
      },
      "source": [
        "#-------------------------------------------------------------------------------\n",
        "print('Reading testing set ...')\n",
        "testImgPaths = pd.DataFrame(glob.glob(os.path.join(testPath, '*.jpg')), columns = ['path'])\n",
        "testImgGen = ImageDataGenerator(preprocessing_function=preprocess)\n",
        "testImgFlow = testImgGen.flow_from_dataframe(dataframe=testImgPaths, \n",
        "                        x_col='path',\n",
        "                        target_size=imgSize, \n",
        "                        batch_size=1, \n",
        "                        interpolation='bilinear',\n",
        "                        class_mode=None,\n",
        "                        shuffle=False)\n",
        "\n",
        "#-------------------------------------------------------------------------------\n",
        "print('Reading encodes of labels ...')\n",
        "with open(enocdePath, 'r', encoding='utf-8') as f:\n",
        "    encodes = {}\n",
        "    for key, value in json.load(f).items():\n",
        "        encodes[int(value)] = key\n",
        "\n",
        "#-------------------------------------------------------------------------------\n",
        "print('Reading TF model ...')\n",
        "classifier = load_model(modelPath)\n",
        "\n",
        "#-------------------------------------------------------------------------------\n",
        "print('Computing prediction ...')\n",
        "imgPred = classifier.predict(testImgFlow, 1, 1, steps=testImgFlow.n)\n",
        "\n",
        "#-------------------------------------------------------------------------------\n",
        "print('Generating csv file of the prediction ...')\n",
        "predict = pd.DataFrame()\n",
        "predict['id'] = testImgPaths['path'].apply(lambda x: '%06d'%(int(os.path.split(x)[-1].replace('.jpg', ''))))\n",
        "predict['label'] = np.argmax(imgPred, axis=1)\n",
        "predict['label'] = predict['label'].map(encodes)\n",
        "predict = predict.sort_values('id', ignore_index=True)\n",
        "predict.to_csv(predictPath, index=False)\n",
        "predict\n"
      ],
      "execution_count": null,
      "outputs": [
        {
          "output_type": "stream",
          "text": [
            "Reading testing set ...\n",
            "Found 5000 validated image filenames.\n",
            "Reading encodes of labels ...\n",
            "Reading TF model ...\n",
            "Computing prediction ...\n",
            "5000/5000 [==============================] - 2610s 522ms/step\n",
            "Generating csv file of the prediction ...\n"
          ],
          "name": "stdout"
        },
        {
          "output_type": "execute_result",
          "data": {
            "text/html": [
              "<div>\n",
              "<style scoped>\n",
              "    .dataframe tbody tr th:only-of-type {\n",
              "        vertical-align: middle;\n",
              "    }\n",
              "\n",
              "    .dataframe tbody tr th {\n",
              "        vertical-align: top;\n",
              "    }\n",
              "\n",
              "    .dataframe thead th {\n",
              "        text-align: right;\n",
              "    }\n",
              "</style>\n",
              "<table border=\"1\" class=\"dataframe\">\n",
              "  <thead>\n",
              "    <tr style=\"text-align: right;\">\n",
              "      <th></th>\n",
              "      <th>id</th>\n",
              "      <th>label</th>\n",
              "    </tr>\n",
              "  </thead>\n",
              "  <tbody>\n",
              "    <tr>\n",
              "      <th>0</th>\n",
              "      <td>000004</td>\n",
              "      <td>AM General Hummer SUV 2000</td>\n",
              "    </tr>\n",
              "    <tr>\n",
              "      <th>1</th>\n",
              "      <td>000005</td>\n",
              "      <td>AM General Hummer SUV 2000</td>\n",
              "    </tr>\n",
              "    <tr>\n",
              "      <th>2</th>\n",
              "      <td>000006</td>\n",
              "      <td>HUMMER H2 SUT Crew Cab 2009</td>\n",
              "    </tr>\n",
              "    <tr>\n",
              "      <th>3</th>\n",
              "      <td>000008</td>\n",
              "      <td>AM General Hummer SUV 2000</td>\n",
              "    </tr>\n",
              "    <tr>\n",
              "      <th>4</th>\n",
              "      <td>000019</td>\n",
              "      <td>AM General Hummer SUV 2000</td>\n",
              "    </tr>\n",
              "    <tr>\n",
              "      <th>...</th>\n",
              "      <td>...</td>\n",
              "      <td>...</td>\n",
              "    </tr>\n",
              "    <tr>\n",
              "      <th>4995</th>\n",
              "      <td>016172</td>\n",
              "      <td>smart fortwo Convertible 2012</td>\n",
              "    </tr>\n",
              "    <tr>\n",
              "      <th>4996</th>\n",
              "      <td>016175</td>\n",
              "      <td>smart fortwo Convertible 2012</td>\n",
              "    </tr>\n",
              "    <tr>\n",
              "      <th>4997</th>\n",
              "      <td>016176</td>\n",
              "      <td>smart fortwo Convertible 2012</td>\n",
              "    </tr>\n",
              "    <tr>\n",
              "      <th>4998</th>\n",
              "      <td>016180</td>\n",
              "      <td>smart fortwo Convertible 2012</td>\n",
              "    </tr>\n",
              "    <tr>\n",
              "      <th>4999</th>\n",
              "      <td>016181</td>\n",
              "      <td>smart fortwo Convertible 2012</td>\n",
              "    </tr>\n",
              "  </tbody>\n",
              "</table>\n",
              "<p>5000 rows × 2 columns</p>\n",
              "</div>"
            ],
            "text/plain": [
              "          id                          label\n",
              "0     000004     AM General Hummer SUV 2000\n",
              "1     000005     AM General Hummer SUV 2000\n",
              "2     000006    HUMMER H2 SUT Crew Cab 2009\n",
              "3     000008     AM General Hummer SUV 2000\n",
              "4     000019     AM General Hummer SUV 2000\n",
              "...      ...                            ...\n",
              "4995  016172  smart fortwo Convertible 2012\n",
              "4996  016175  smart fortwo Convertible 2012\n",
              "4997  016176  smart fortwo Convertible 2012\n",
              "4998  016180  smart fortwo Convertible 2012\n",
              "4999  016181  smart fortwo Convertible 2012\n",
              "\n",
              "[5000 rows x 2 columns]"
            ]
          },
          "metadata": {
            "tags": []
          },
          "execution_count": 5
        }
      ]
    },
    {
      "cell_type": "code",
      "metadata": {
        "id": "n3KtIDHNJYyM"
      },
      "source": [
        ""
      ],
      "execution_count": null,
      "outputs": []
    }
  ]
}